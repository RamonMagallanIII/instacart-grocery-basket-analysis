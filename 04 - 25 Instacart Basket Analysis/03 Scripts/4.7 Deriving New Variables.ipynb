{
 "cells": [
  {
   "cell_type": "markdown",
   "id": "7a0fcabe-50a1-498e-b0da-bf36aa4b2ca1",
   "metadata": {},
   "source": [
    "# Importing Libraries"
   ]
  },
  {
   "cell_type": "code",
   "execution_count": 211,
   "id": "ab845249-c409-4bc0-9526-ad9314a4b16c",
   "metadata": {},
   "outputs": [],
   "source": [
    "# Importing Libraries\n",
    "import pandas as pd\n",
    "import numpy as np\n",
    "import os"
   ]
  },
  {
   "cell_type": "markdown",
   "id": "84430093-5842-4bd2-b6f5-375c4556fd30",
   "metadata": {},
   "source": [
    "# Importing Data"
   ]
  },
  {
   "cell_type": "code",
   "execution_count": 214,
   "id": "0cf339c9-8a63-4d7a-ba68-eb58a01a15ca",
   "metadata": {},
   "outputs": [],
   "source": [
    "path = r'C:\\Users\\drbar\\Documents\\Career Foundry\\Projects\\04 - 25 Instacart Basket Analysis'"
   ]
  },
  {
   "cell_type": "code",
   "execution_count": 216,
   "id": "77725500-5883-4af8-b619-afdcdd57990a",
   "metadata": {},
   "outputs": [],
   "source": [
    "ords_prods_merge = pd.read_pickle(os.path.join(path, '02 Data', 'Prepared Data', 'ords_prods_merged.pkl'))"
   ]
  },
  {
   "cell_type": "code",
   "execution_count": 217,
   "id": "88221436-a5fe-4f5d-b7cf-334637e6f67f",
   "metadata": {},
   "outputs": [
    {
     "data": {
      "text/html": [
       "<div>\n",
       "<style scoped>\n",
       "    .dataframe tbody tr th:only-of-type {\n",
       "        vertical-align: middle;\n",
       "    }\n",
       "\n",
       "    .dataframe tbody tr th {\n",
       "        vertical-align: top;\n",
       "    }\n",
       "\n",
       "    .dataframe thead th {\n",
       "        text-align: right;\n",
       "    }\n",
       "</style>\n",
       "<table border=\"1\" class=\"dataframe\">\n",
       "  <thead>\n",
       "    <tr style=\"text-align: right;\">\n",
       "      <th></th>\n",
       "      <th>product_id</th>\n",
       "      <th>product_name</th>\n",
       "      <th>aisle_id</th>\n",
       "      <th>department_id</th>\n",
       "      <th>prices</th>\n",
       "      <th>order_id</th>\n",
       "      <th>user_id</th>\n",
       "      <th>order_number</th>\n",
       "      <th>orders_day_of_week</th>\n",
       "      <th>order_hour_of_day</th>\n",
       "      <th>days_since_prior_order</th>\n",
       "      <th>add_to_cart_order</th>\n",
       "      <th>reordered</th>\n",
       "      <th>_merge</th>\n",
       "    </tr>\n",
       "  </thead>\n",
       "  <tbody>\n",
       "    <tr>\n",
       "      <th>0</th>\n",
       "      <td>1</td>\n",
       "      <td>Chocolate Sandwich Cookies</td>\n",
       "      <td>61</td>\n",
       "      <td>19</td>\n",
       "      <td>5.8</td>\n",
       "      <td>1107</td>\n",
       "      <td>38259</td>\n",
       "      <td>2</td>\n",
       "      <td>1</td>\n",
       "      <td>11</td>\n",
       "      <td>7.0</td>\n",
       "      <td>7.0</td>\n",
       "      <td>0.0</td>\n",
       "      <td>both</td>\n",
       "    </tr>\n",
       "    <tr>\n",
       "      <th>1</th>\n",
       "      <td>1</td>\n",
       "      <td>Chocolate Sandwich Cookies</td>\n",
       "      <td>61</td>\n",
       "      <td>19</td>\n",
       "      <td>5.8</td>\n",
       "      <td>5319</td>\n",
       "      <td>196224</td>\n",
       "      <td>65</td>\n",
       "      <td>1</td>\n",
       "      <td>14</td>\n",
       "      <td>1.0</td>\n",
       "      <td>3.0</td>\n",
       "      <td>1.0</td>\n",
       "      <td>both</td>\n",
       "    </tr>\n",
       "    <tr>\n",
       "      <th>2</th>\n",
       "      <td>1</td>\n",
       "      <td>Chocolate Sandwich Cookies</td>\n",
       "      <td>61</td>\n",
       "      <td>19</td>\n",
       "      <td>5.8</td>\n",
       "      <td>7540</td>\n",
       "      <td>138499</td>\n",
       "      <td>8</td>\n",
       "      <td>0</td>\n",
       "      <td>14</td>\n",
       "      <td>7.0</td>\n",
       "      <td>4.0</td>\n",
       "      <td>1.0</td>\n",
       "      <td>both</td>\n",
       "    </tr>\n",
       "    <tr>\n",
       "      <th>3</th>\n",
       "      <td>1</td>\n",
       "      <td>Chocolate Sandwich Cookies</td>\n",
       "      <td>61</td>\n",
       "      <td>19</td>\n",
       "      <td>5.8</td>\n",
       "      <td>9228</td>\n",
       "      <td>79603</td>\n",
       "      <td>2</td>\n",
       "      <td>2</td>\n",
       "      <td>10</td>\n",
       "      <td>30.0</td>\n",
       "      <td>2.0</td>\n",
       "      <td>0.0</td>\n",
       "      <td>both</td>\n",
       "    </tr>\n",
       "    <tr>\n",
       "      <th>4</th>\n",
       "      <td>1</td>\n",
       "      <td>Chocolate Sandwich Cookies</td>\n",
       "      <td>61</td>\n",
       "      <td>19</td>\n",
       "      <td>5.8</td>\n",
       "      <td>9273</td>\n",
       "      <td>50005</td>\n",
       "      <td>1</td>\n",
       "      <td>1</td>\n",
       "      <td>15</td>\n",
       "      <td>NaN</td>\n",
       "      <td>30.0</td>\n",
       "      <td>0.0</td>\n",
       "      <td>both</td>\n",
       "    </tr>\n",
       "  </tbody>\n",
       "</table>\n",
       "</div>"
      ],
      "text/plain": [
       "   product_id                product_name  aisle_id  department_id  prices  \\\n",
       "0           1  Chocolate Sandwich Cookies        61             19     5.8   \n",
       "1           1  Chocolate Sandwich Cookies        61             19     5.8   \n",
       "2           1  Chocolate Sandwich Cookies        61             19     5.8   \n",
       "3           1  Chocolate Sandwich Cookies        61             19     5.8   \n",
       "4           1  Chocolate Sandwich Cookies        61             19     5.8   \n",
       "\n",
       "   order_id  user_id  order_number  orders_day_of_week  order_hour_of_day  \\\n",
       "0      1107    38259             2                   1                 11   \n",
       "1      5319   196224            65                   1                 14   \n",
       "2      7540   138499             8                   0                 14   \n",
       "3      9228    79603             2                   2                 10   \n",
       "4      9273    50005             1                   1                 15   \n",
       "\n",
       "   days_since_prior_order  add_to_cart_order  reordered _merge  \n",
       "0                     7.0                7.0        0.0   both  \n",
       "1                     1.0                3.0        1.0   both  \n",
       "2                     7.0                4.0        1.0   both  \n",
       "3                    30.0                2.0        0.0   both  \n",
       "4                     NaN               30.0        0.0   both  "
      ]
     },
     "execution_count": 217,
     "metadata": {},
     "output_type": "execute_result"
    }
   ],
   "source": [
    "ords_prods_merge.head()"
   ]
  },
  {
   "cell_type": "markdown",
   "id": "186af0ef-7c62-495c-98f4-78965237f75d",
   "metadata": {},
   "source": [
    "## If- Statements with User-Defined Functions "
   ]
  },
  {
   "cell_type": "code",
   "execution_count": 219,
   "id": "109e2d98-5605-4ed8-8d60-d86f83bace82",
   "metadata": {},
   "outputs": [],
   "source": [
    "# Creating a subset\n",
    "df = ords_prods_merge[:1000000]"
   ]
  },
  {
   "cell_type": "code",
   "execution_count": 220,
   "id": "9211c8d3-1b0f-4124-83c5-a6cf3b58650d",
   "metadata": {},
   "outputs": [
    {
     "data": {
      "text/plain": [
       "(1000000, 14)"
      ]
     },
     "execution_count": 220,
     "metadata": {},
     "output_type": "execute_result"
    }
   ],
   "source": [
    "df.shape"
   ]
  },
  {
   "cell_type": "code",
   "execution_count": 221,
   "id": "87ffcf89-3377-4b30-885e-50d94e0b4768",
   "metadata": {},
   "outputs": [],
   "source": [
    "# Creating a price label flag\n",
    "def price_label(row):\n",
    "\n",
    "    if row['prices'] <= 5:\n",
    "        return 'Low-range product'\n",
    "    elif (row['prices'] > 5) and (row['prices'] <= 15):\n",
    "        return 'Mid-range product'\n",
    "    elif row['prices'] > 15:\n",
    "        return 'High range'\n",
    "    else: return 'Not enough data'"
   ]
  },
  {
   "cell_type": "code",
   "execution_count": 222,
   "id": "1629b7cc-9744-4045-b832-e591b94a9bb8",
   "metadata": {},
   "outputs": [
    {
     "name": "stderr",
     "output_type": "stream",
     "text": [
      "C:\\Users\\drbar\\AppData\\Local\\Temp\\ipykernel_8176\\2953225341.py:2: SettingWithCopyWarning: \n",
      "A value is trying to be set on a copy of a slice from a DataFrame.\n",
      "Try using .loc[row_indexer,col_indexer] = value instead\n",
      "\n",
      "See the caveats in the documentation: https://pandas.pydata.org/pandas-docs/stable/user_guide/indexing.html#returning-a-view-versus-a-copy\n",
      "  df['price_range'] = df.apply(price_label, axis = 1)\n"
     ]
    }
   ],
   "source": [
    "# Applying flag to the subset\n",
    "df['price_range'] = df.apply(price_label, axis = 1)"
   ]
  },
  {
   "cell_type": "code",
   "execution_count": 223,
   "id": "88f6b533-1d3f-4292-bad9-d32a9a95d029",
   "metadata": {},
   "outputs": [
    {
     "data": {
      "text/plain": [
       "price_range\n",
       "Mid-range product    652638\n",
       "Low-range product    338018\n",
       "High range             9344\n",
       "Name: count, dtype: int64"
      ]
     },
     "execution_count": 223,
     "metadata": {},
     "output_type": "execute_result"
    }
   ],
   "source": [
    "# Checking value counts\n",
    "df['price_range'].value_counts(dropna = False)"
   ]
  },
  {
   "cell_type": "code",
   "execution_count": 224,
   "id": "44c9f507-ca60-463c-9a4b-fee30320a79b",
   "metadata": {},
   "outputs": [
    {
     "data": {
      "text/plain": [
       "24.5"
      ]
     },
     "execution_count": 224,
     "metadata": {},
     "output_type": "execute_result"
    }
   ],
   "source": [
    "df['prices'].max()"
   ]
  },
  {
   "cell_type": "markdown",
   "id": "db762718-966a-4eab-9034-417b57fcfa74",
   "metadata": {},
   "source": [
    "## If-Statements with loc() Function"
   ]
  },
  {
   "cell_type": "code",
   "execution_count": 231,
   "id": "5f625c7a-197d-447d-bea3-8a88b767a410",
   "metadata": {},
   "outputs": [
    {
     "name": "stderr",
     "output_type": "stream",
     "text": [
      "C:\\Users\\drbar\\AppData\\Local\\Temp\\ipykernel_8176\\2853345448.py:2: SettingWithCopyWarning: \n",
      "A value is trying to be set on a copy of a slice from a DataFrame.\n",
      "Try using .loc[row_indexer,col_indexer] = value instead\n",
      "\n",
      "See the caveats in the documentation: https://pandas.pydata.org/pandas-docs/stable/user_guide/indexing.html#returning-a-view-versus-a-copy\n",
      "  df.loc[df['prices'] > 15, 'price_range_loc'] = 'High range product'\n"
     ]
    }
   ],
   "source": [
    "# Creating a flag with loc() Function\n",
    "df.loc[df['prices'] > 15, 'price_range_loc'] = 'High range product'"
   ]
  },
  {
   "cell_type": "code",
   "execution_count": 232,
   "id": "b42e5d1a-48bf-4cce-b8a8-7b4913a97d3d",
   "metadata": {},
   "outputs": [],
   "source": [
    "df.loc[(df['prices'] <= 15) & (df['prices'] > 5), 'price_range_loc'] = 'Mid range product'"
   ]
  },
  {
   "cell_type": "code",
   "execution_count": 233,
   "id": "884a026a-cc6f-4a79-92a7-2bf73fe9c1e1",
   "metadata": {},
   "outputs": [],
   "source": [
    "df.loc[df['prices'] < 5, 'price_range_loc'] = 'Low range product'"
   ]
  },
  {
   "cell_type": "code",
   "execution_count": 234,
   "id": "7a10fa3d-1ada-4318-8662-a04201474037",
   "metadata": {},
   "outputs": [
    {
     "data": {
      "text/plain": [
       "price_range_loc\n",
       "Mid range product     652638\n",
       "Low range product     335327\n",
       "High range product      9344\n",
       "NaN                     2691\n",
       "Name: count, dtype: int64"
      ]
     },
     "execution_count": 234,
     "metadata": {},
     "output_type": "execute_result"
    }
   ],
   "source": [
    "df['price_range_loc'].value_counts(dropna = False)"
   ]
  },
  {
   "cell_type": "code",
   "execution_count": 235,
   "id": "ed64f3eb-a7fe-4fad-bef4-8bdaac0f6939",
   "metadata": {},
   "outputs": [],
   "source": [
    "# Applying flag to the original dataframe\n",
    "ords_prods_merge.loc[ords_prods_merge['prices'] > 15, 'price_range_loc'] = 'High range product'"
   ]
  },
  {
   "cell_type": "code",
   "execution_count": 236,
   "id": "f0fc8604-428f-4737-9086-8d033a3e4960",
   "metadata": {},
   "outputs": [],
   "source": [
    "ords_prods_merge.loc[(ords_prods_merge['prices'] <= 15) & (ords_prods_merge['prices'] > 5), 'price_range_loc'] = 'Mid range product'"
   ]
  },
  {
   "cell_type": "code",
   "execution_count": 237,
   "id": "d51d0785-a5d0-4617-92c2-6b6fc231594f",
   "metadata": {},
   "outputs": [],
   "source": [
    "ords_prods_merge.loc[ords_prods_merge['prices'] < 5, 'price_range_loc'] = 'Low range product'"
   ]
  },
  {
   "cell_type": "markdown",
   "id": "7eda69ee-31a6-4996-a5c3-c4720fdb9d1b",
   "metadata": {},
   "source": [
    "## If-Statements with For-Loops"
   ]
  },
  {
   "cell_type": "code",
   "execution_count": 239,
   "id": "eff6b8af-7f94-449a-ad48-efe408479a8e",
   "metadata": {},
   "outputs": [
    {
     "data": {
      "text/plain": [
       "orders_day_of_week\n",
       "0    6204182\n",
       "1    5660230\n",
       "6    4496490\n",
       "2    4213830\n",
       "5    4205791\n",
       "3    3840534\n",
       "4    3783802\n",
       "Name: count, dtype: int64"
      ]
     },
     "execution_count": 239,
     "metadata": {},
     "output_type": "execute_result"
    }
   ],
   "source": [
    "ords_prods_merge['orders_day_of_week'].value_counts(dropna = False)"
   ]
  },
  {
   "cell_type": "code",
   "execution_count": 240,
   "id": "202dc983-b3b3-4d71-b54c-9a273abaa8d4",
   "metadata": {},
   "outputs": [],
   "source": [
    "# Creating a flag to note the historic average volume of the day of week\n",
    "result = []\n",
    "\n",
    "for value in ords_prods_merge[\"orders_day_of_week\"]:\n",
    "    if value == 0:\n",
    "        result.append(\"Busiest day\")\n",
    "    elif value == 4:\n",
    "        result.append(\"Least busy\")\n",
    "    else:\n",
    "        result.append(\"Regular busy\")"
   ]
  },
  {
   "cell_type": "code",
   "execution_count": 274,
   "id": "7484db52-115a-4f09-a3e0-bf7ab5a6e6e8",
   "metadata": {},
   "outputs": [
    {
     "data": {
      "text/plain": [
       "['Busiest',\n",
       " 'Busiest',\n",
       " 'Busiest',\n",
       " 'Regular busy',\n",
       " 'Busiest',\n",
       " 'Regular busy',\n",
       " 'Busiest',\n",
       " 'Regular busy',\n",
       " 'Regular busy',\n",
       " 'Least busy']"
      ]
     },
     "execution_count": 274,
     "metadata": {},
     "output_type": "execute_result"
    }
   ],
   "source": [
    "# Printing the result\n",
    "result [:10]"
   ]
  },
  {
   "cell_type": "markdown",
   "id": "1d6844fe-7aaf-4a8c-8c3c-ab357e6dfbbd",
   "metadata": {},
   "source": [
    "# Exercise "
   ]
  },
  {
   "cell_type": "markdown",
   "id": "3138c7e2-2fa1-4475-8364-abc26bd4945e",
   "metadata": {},
   "source": [
    "## 2."
   ]
  },
  {
   "cell_type": "code",
   "execution_count": 244,
   "id": "e92631cc-d0b9-4def-b057-e84d2175e83e",
   "metadata": {},
   "outputs": [
    {
     "data": {
      "text/plain": [
       "orders_day_of_week\n",
       "0    6204182\n",
       "1    5660230\n",
       "6    4496490\n",
       "2    4213830\n",
       "5    4205791\n",
       "3    3840534\n",
       "4    3783802\n",
       "Name: count, dtype: int64"
      ]
     },
     "execution_count": 244,
     "metadata": {},
     "output_type": "execute_result"
    }
   ],
   "source": [
    "# Checking the volume for each day of the week\n",
    "ords_prods_merge['orders_day_of_week'].value_counts(dropna = False)"
   ]
  },
  {
   "cell_type": "code",
   "execution_count": 245,
   "id": "13febcf8-0502-468e-a64c-ba548b745e49",
   "metadata": {},
   "outputs": [],
   "source": [
    "# Creating a flag to note the busiest and slowest days of the week\n",
    "result = []\n",
    "\n",
    "for value in ords_prods_merge[\"orders_day_of_week\"]:\n",
    "    if value in [0,1]:\n",
    "        result.append(\"Busiest\")\n",
    "    elif value in [3,4]:\n",
    "        result.append(\"Least busy\")\n",
    "    else:\n",
    "        result.append(\"Regular busy\")"
   ]
  },
  {
   "cell_type": "code",
   "execution_count": 246,
   "id": "7f1d6ffb-f129-46dc-a03d-d3a4246960b3",
   "metadata": {},
   "outputs": [],
   "source": [
    "ords_prods_merge['busiest_days'] = result"
   ]
  },
  {
   "cell_type": "markdown",
   "id": "e1988dd4-fe03-47b1-ab62-50dd2af9dbf3",
   "metadata": {},
   "source": [
    "## 3."
   ]
  },
  {
   "cell_type": "code",
   "execution_count": 278,
   "id": "cad9b214-17da-4cc9-8028-becc4a5973c2",
   "metadata": {},
   "outputs": [
    {
     "data": {
      "text/plain": [
       "['Busiest',\n",
       " 'Busiest',\n",
       " 'Busiest',\n",
       " 'Regular busy',\n",
       " 'Busiest',\n",
       " 'Regular busy',\n",
       " 'Busiest',\n",
       " 'Regular busy',\n",
       " 'Regular busy',\n",
       " 'Least busy']"
      ]
     },
     "execution_count": 278,
     "metadata": {},
     "output_type": "execute_result"
    }
   ],
   "source": [
    "# Checking the result\n",
    "result[:10]"
   ]
  },
  {
   "cell_type": "code",
   "execution_count": 249,
   "id": "4d467034-8d2e-4665-b5a7-3cf8ce5d5d48",
   "metadata": {},
   "outputs": [
    {
     "data": {
      "text/html": [
       "<div>\n",
       "<style scoped>\n",
       "    .dataframe tbody tr th:only-of-type {\n",
       "        vertical-align: middle;\n",
       "    }\n",
       "\n",
       "    .dataframe tbody tr th {\n",
       "        vertical-align: top;\n",
       "    }\n",
       "\n",
       "    .dataframe thead th {\n",
       "        text-align: right;\n",
       "    }\n",
       "</style>\n",
       "<table border=\"1\" class=\"dataframe\">\n",
       "  <thead>\n",
       "    <tr style=\"text-align: right;\">\n",
       "      <th></th>\n",
       "      <th>product_id</th>\n",
       "      <th>product_name</th>\n",
       "      <th>aisle_id</th>\n",
       "      <th>department_id</th>\n",
       "      <th>prices</th>\n",
       "      <th>order_id</th>\n",
       "      <th>user_id</th>\n",
       "      <th>order_number</th>\n",
       "      <th>orders_day_of_week</th>\n",
       "      <th>order_hour_of_day</th>\n",
       "      <th>days_since_prior_order</th>\n",
       "      <th>add_to_cart_order</th>\n",
       "      <th>reordered</th>\n",
       "      <th>_merge</th>\n",
       "      <th>price_range_loc</th>\n",
       "      <th>busiest_days</th>\n",
       "    </tr>\n",
       "  </thead>\n",
       "  <tbody>\n",
       "    <tr>\n",
       "      <th>0</th>\n",
       "      <td>1</td>\n",
       "      <td>Chocolate Sandwich Cookies</td>\n",
       "      <td>61</td>\n",
       "      <td>19</td>\n",
       "      <td>5.8</td>\n",
       "      <td>1107</td>\n",
       "      <td>38259</td>\n",
       "      <td>2</td>\n",
       "      <td>1</td>\n",
       "      <td>11</td>\n",
       "      <td>7.0</td>\n",
       "      <td>7.0</td>\n",
       "      <td>0.0</td>\n",
       "      <td>both</td>\n",
       "      <td>Mid range product</td>\n",
       "      <td>Busiest</td>\n",
       "    </tr>\n",
       "    <tr>\n",
       "      <th>1</th>\n",
       "      <td>1</td>\n",
       "      <td>Chocolate Sandwich Cookies</td>\n",
       "      <td>61</td>\n",
       "      <td>19</td>\n",
       "      <td>5.8</td>\n",
       "      <td>5319</td>\n",
       "      <td>196224</td>\n",
       "      <td>65</td>\n",
       "      <td>1</td>\n",
       "      <td>14</td>\n",
       "      <td>1.0</td>\n",
       "      <td>3.0</td>\n",
       "      <td>1.0</td>\n",
       "      <td>both</td>\n",
       "      <td>Mid range product</td>\n",
       "      <td>Busiest</td>\n",
       "    </tr>\n",
       "    <tr>\n",
       "      <th>2</th>\n",
       "      <td>1</td>\n",
       "      <td>Chocolate Sandwich Cookies</td>\n",
       "      <td>61</td>\n",
       "      <td>19</td>\n",
       "      <td>5.8</td>\n",
       "      <td>7540</td>\n",
       "      <td>138499</td>\n",
       "      <td>8</td>\n",
       "      <td>0</td>\n",
       "      <td>14</td>\n",
       "      <td>7.0</td>\n",
       "      <td>4.0</td>\n",
       "      <td>1.0</td>\n",
       "      <td>both</td>\n",
       "      <td>Mid range product</td>\n",
       "      <td>Busiest</td>\n",
       "    </tr>\n",
       "    <tr>\n",
       "      <th>3</th>\n",
       "      <td>1</td>\n",
       "      <td>Chocolate Sandwich Cookies</td>\n",
       "      <td>61</td>\n",
       "      <td>19</td>\n",
       "      <td>5.8</td>\n",
       "      <td>9228</td>\n",
       "      <td>79603</td>\n",
       "      <td>2</td>\n",
       "      <td>2</td>\n",
       "      <td>10</td>\n",
       "      <td>30.0</td>\n",
       "      <td>2.0</td>\n",
       "      <td>0.0</td>\n",
       "      <td>both</td>\n",
       "      <td>Mid range product</td>\n",
       "      <td>Regular busy</td>\n",
       "    </tr>\n",
       "    <tr>\n",
       "      <th>4</th>\n",
       "      <td>1</td>\n",
       "      <td>Chocolate Sandwich Cookies</td>\n",
       "      <td>61</td>\n",
       "      <td>19</td>\n",
       "      <td>5.8</td>\n",
       "      <td>9273</td>\n",
       "      <td>50005</td>\n",
       "      <td>1</td>\n",
       "      <td>1</td>\n",
       "      <td>15</td>\n",
       "      <td>NaN</td>\n",
       "      <td>30.0</td>\n",
       "      <td>0.0</td>\n",
       "      <td>both</td>\n",
       "      <td>Mid range product</td>\n",
       "      <td>Busiest</td>\n",
       "    </tr>\n",
       "    <tr>\n",
       "      <th>5</th>\n",
       "      <td>1</td>\n",
       "      <td>Chocolate Sandwich Cookies</td>\n",
       "      <td>61</td>\n",
       "      <td>19</td>\n",
       "      <td>5.8</td>\n",
       "      <td>9696</td>\n",
       "      <td>108919</td>\n",
       "      <td>46</td>\n",
       "      <td>5</td>\n",
       "      <td>16</td>\n",
       "      <td>8.0</td>\n",
       "      <td>5.0</td>\n",
       "      <td>1.0</td>\n",
       "      <td>both</td>\n",
       "      <td>Mid range product</td>\n",
       "      <td>Regular busy</td>\n",
       "    </tr>\n",
       "    <tr>\n",
       "      <th>6</th>\n",
       "      <td>1</td>\n",
       "      <td>Chocolate Sandwich Cookies</td>\n",
       "      <td>61</td>\n",
       "      <td>19</td>\n",
       "      <td>5.8</td>\n",
       "      <td>11140</td>\n",
       "      <td>63782</td>\n",
       "      <td>4</td>\n",
       "      <td>1</td>\n",
       "      <td>14</td>\n",
       "      <td>14.0</td>\n",
       "      <td>1.0</td>\n",
       "      <td>1.0</td>\n",
       "      <td>both</td>\n",
       "      <td>Mid range product</td>\n",
       "      <td>Busiest</td>\n",
       "    </tr>\n",
       "    <tr>\n",
       "      <th>7</th>\n",
       "      <td>1</td>\n",
       "      <td>Chocolate Sandwich Cookies</td>\n",
       "      <td>61</td>\n",
       "      <td>19</td>\n",
       "      <td>5.8</td>\n",
       "      <td>11485</td>\n",
       "      <td>170451</td>\n",
       "      <td>5</td>\n",
       "      <td>5</td>\n",
       "      <td>18</td>\n",
       "      <td>24.0</td>\n",
       "      <td>4.0</td>\n",
       "      <td>0.0</td>\n",
       "      <td>both</td>\n",
       "      <td>Mid range product</td>\n",
       "      <td>Regular busy</td>\n",
       "    </tr>\n",
       "    <tr>\n",
       "      <th>8</th>\n",
       "      <td>1</td>\n",
       "      <td>Chocolate Sandwich Cookies</td>\n",
       "      <td>61</td>\n",
       "      <td>19</td>\n",
       "      <td>5.8</td>\n",
       "      <td>12672</td>\n",
       "      <td>106854</td>\n",
       "      <td>28</td>\n",
       "      <td>5</td>\n",
       "      <td>10</td>\n",
       "      <td>6.0</td>\n",
       "      <td>3.0</td>\n",
       "      <td>1.0</td>\n",
       "      <td>both</td>\n",
       "      <td>Mid range product</td>\n",
       "      <td>Regular busy</td>\n",
       "    </tr>\n",
       "    <tr>\n",
       "      <th>9</th>\n",
       "      <td>1</td>\n",
       "      <td>Chocolate Sandwich Cookies</td>\n",
       "      <td>61</td>\n",
       "      <td>19</td>\n",
       "      <td>5.8</td>\n",
       "      <td>13668</td>\n",
       "      <td>181127</td>\n",
       "      <td>10</td>\n",
       "      <td>4</td>\n",
       "      <td>17</td>\n",
       "      <td>9.0</td>\n",
       "      <td>4.0</td>\n",
       "      <td>1.0</td>\n",
       "      <td>both</td>\n",
       "      <td>Mid range product</td>\n",
       "      <td>Least busy</td>\n",
       "    </tr>\n",
       "  </tbody>\n",
       "</table>\n",
       "</div>"
      ],
      "text/plain": [
       "   product_id                product_name  aisle_id  department_id  prices  \\\n",
       "0           1  Chocolate Sandwich Cookies        61             19     5.8   \n",
       "1           1  Chocolate Sandwich Cookies        61             19     5.8   \n",
       "2           1  Chocolate Sandwich Cookies        61             19     5.8   \n",
       "3           1  Chocolate Sandwich Cookies        61             19     5.8   \n",
       "4           1  Chocolate Sandwich Cookies        61             19     5.8   \n",
       "5           1  Chocolate Sandwich Cookies        61             19     5.8   \n",
       "6           1  Chocolate Sandwich Cookies        61             19     5.8   \n",
       "7           1  Chocolate Sandwich Cookies        61             19     5.8   \n",
       "8           1  Chocolate Sandwich Cookies        61             19     5.8   \n",
       "9           1  Chocolate Sandwich Cookies        61             19     5.8   \n",
       "\n",
       "   order_id  user_id  order_number  orders_day_of_week  order_hour_of_day  \\\n",
       "0      1107    38259             2                   1                 11   \n",
       "1      5319   196224            65                   1                 14   \n",
       "2      7540   138499             8                   0                 14   \n",
       "3      9228    79603             2                   2                 10   \n",
       "4      9273    50005             1                   1                 15   \n",
       "5      9696   108919            46                   5                 16   \n",
       "6     11140    63782             4                   1                 14   \n",
       "7     11485   170451             5                   5                 18   \n",
       "8     12672   106854            28                   5                 10   \n",
       "9     13668   181127            10                   4                 17   \n",
       "\n",
       "   days_since_prior_order  add_to_cart_order  reordered _merge  \\\n",
       "0                     7.0                7.0        0.0   both   \n",
       "1                     1.0                3.0        1.0   both   \n",
       "2                     7.0                4.0        1.0   both   \n",
       "3                    30.0                2.0        0.0   both   \n",
       "4                     NaN               30.0        0.0   both   \n",
       "5                     8.0                5.0        1.0   both   \n",
       "6                    14.0                1.0        1.0   both   \n",
       "7                    24.0                4.0        0.0   both   \n",
       "8                     6.0                3.0        1.0   both   \n",
       "9                     9.0                4.0        1.0   both   \n",
       "\n",
       "     price_range_loc  busiest_days  \n",
       "0  Mid range product       Busiest  \n",
       "1  Mid range product       Busiest  \n",
       "2  Mid range product       Busiest  \n",
       "3  Mid range product  Regular busy  \n",
       "4  Mid range product       Busiest  \n",
       "5  Mid range product  Regular busy  \n",
       "6  Mid range product       Busiest  \n",
       "7  Mid range product  Regular busy  \n",
       "8  Mid range product  Regular busy  \n",
       "9  Mid range product    Least busy  "
      ]
     },
     "execution_count": 249,
     "metadata": {},
     "output_type": "execute_result"
    }
   ],
   "source": [
    "ords_prods_merge.head(10)"
   ]
  },
  {
   "cell_type": "markdown",
   "id": "ba98aeb0-81a4-44ca-8b95-c57f36f07968",
   "metadata": {},
   "source": [
    "### The values returned by the flag seem to be accurate. Adding the busiest_days column was successful"
   ]
  },
  {
   "cell_type": "markdown",
   "id": "0bc99cfc-65ee-4155-a1ac-ddefc5fd4aae",
   "metadata": {},
   "source": [
    "## 4."
   ]
  },
  {
   "cell_type": "code",
   "execution_count": 252,
   "id": "4f912286-b550-4665-853e-0efd6dae2138",
   "metadata": {},
   "outputs": [
    {
     "data": {
      "text/plain": [
       "order_hour_of_day\n",
       "10    2761760\n",
       "11    2736140\n",
       "14    2689136\n",
       "15    2662144\n",
       "13    2660954\n",
       "12    2618532\n",
       "16    2535202\n",
       "9     2454203\n",
       "17    2087654\n",
       "8     1718118\n",
       "18    1636502\n",
       "19    1258305\n",
       "20     976156\n",
       "7      891054\n",
       "21     795637\n",
       "22     634225\n",
       "23     402316\n",
       "6      290493\n",
       "0      218769\n",
       "1      115700\n",
       "5       87961\n",
       "2       69375\n",
       "4       53242\n",
       "3       51281\n",
       "Name: count, dtype: int64"
      ]
     },
     "execution_count": 252,
     "metadata": {},
     "output_type": "execute_result"
    }
   ],
   "source": [
    "# Checking the volume of orders each hour of day\n",
    "ords_prods_merge['order_hour_of_day'].value_counts(dropna = False)"
   ]
  },
  {
   "cell_type": "code",
   "execution_count": 297,
   "id": "d6428791-24bd-4d8e-8d15-bb16ec8a7b90",
   "metadata": {},
   "outputs": [],
   "source": [
    "# Creating a flag to notate the number of orders recieved per 8hr period\n",
    "result_hours = []\n",
    "\n",
    "for value in ords_prods_merge[\"order_hour_of_day\"].head:\n",
    "    if value in [9,10,11,12,13,14,15,16]:\n",
    "        result.append(\"Most orders\")\n",
    "    elif value in [0,1,2,3,4,5,6,23]:\n",
    "        result.append(\"Fewest orders\")\n",
    "    else:\n",
    "        result.append(\"Average orders\")"
   ]
  },
  {
   "cell_type": "code",
   "execution_count": 309,
   "id": "88ac76b6-6816-4814-a371-5cbbed5ae7f2",
   "metadata": {},
   "outputs": [
    {
     "data": {
      "text/plain": [
       "[]"
      ]
     },
     "execution_count": 309,
     "metadata": {},
     "output_type": "execute_result"
    }
   ],
   "source": [
    "# Printing the results\n",
    "# Results not showing as expected, must debug\n",
    "result_hours[:10]"
   ]
  },
  {
   "cell_type": "code",
   "execution_count": 311,
   "id": "19394999-69db-482f-85ff-79282862308b",
   "metadata": {},
   "outputs": [
    {
     "data": {
      "text/plain": [
       "product_id                   int64\n",
       "product_name                object\n",
       "aisle_id                     int64\n",
       "department_id                int64\n",
       "prices                     float64\n",
       "order_id                     int64\n",
       "user_id                      int64\n",
       "order_number                 int64\n",
       "orders_day_of_week           int64\n",
       "order_hour_of_day            int64\n",
       "days_since_prior_order     float64\n",
       "add_to_cart_order          float64\n",
       "reordered                  float64\n",
       "_merge                    category\n",
       "price_range_loc             object\n",
       "busiest_days                object\n",
       "dtype: object"
      ]
     },
     "execution_count": 311,
     "metadata": {},
     "output_type": "execute_result"
    }
   ],
   "source": [
    "# Checking consistency of datatypes\n",
    "ords_prods_merge.dtypes"
   ]
  },
  {
   "cell_type": "code",
   "execution_count": 313,
   "id": "125f0507-16ac-4c32-9984-538fc931d54e",
   "metadata": {},
   "outputs": [
    {
     "data": {
      "text/plain": [
       "32404859"
      ]
     },
     "execution_count": 313,
     "metadata": {},
     "output_type": "execute_result"
    }
   ],
   "source": [
    "# Checking to see the column is populated\n",
    "len(ords_prods_merge[\"order_hour_of_day\"])"
   ]
  },
  {
   "cell_type": "code",
   "execution_count": 315,
   "id": "0640f5d9-7238-4514-babf-30856a3f721a",
   "metadata": {},
   "outputs": [
    {
     "data": {
      "text/plain": [
       "0    11\n",
       "1    14\n",
       "2    14\n",
       "3    10\n",
       "4    15\n",
       "5    16\n",
       "6    14\n",
       "7    18\n",
       "8    10\n",
       "9    17\n",
       "Name: order_hour_of_day, dtype: int64"
      ]
     },
     "execution_count": 315,
     "metadata": {},
     "output_type": "execute_result"
    }
   ],
   "source": [
    "# Checking head\n",
    "ords_prods_merge[\"order_hour_of_day\"].head(10)"
   ]
  },
  {
   "cell_type": "code",
   "execution_count": 317,
   "id": "91216cd0-d273-48d5-830a-9e3f115e3d32",
   "metadata": {},
   "outputs": [],
   "source": [
    "# Testing the code on a smaller 100 row subset\n",
    "result_hours_test = []\n",
    "\n",
    "for value in ords_prods_merge[\"order_hour_of_day\"].head(100):\n",
    "    if value in [9,10,11,12,13,14,15,16]:\n",
    "        result_hours_test.append(\"Most orders\")\n",
    "    elif value in [0,1,2,3,4,5,6,23]:\n",
    "        result_hours_test.append(\"Fewest orders\")\n",
    "    else:\n",
    "        result_hours_test.append(\"Average orders\")"
   ]
  },
  {
   "cell_type": "code",
   "execution_count": 319,
   "id": "a5afd9f3-14c7-4425-aa85-172f54360aee",
   "metadata": {},
   "outputs": [
    {
     "name": "stdout",
     "output_type": "stream",
     "text": [
      "['Most orders', 'Most orders', 'Most orders', 'Most orders', 'Most orders', 'Most orders', 'Most orders', 'Average orders', 'Most orders', 'Average orders']\n"
     ]
    }
   ],
   "source": [
    "# Results are successful\n",
    "print(result_hours_test[:10])"
   ]
  },
  {
   "cell_type": "code",
   "execution_count": 327,
   "id": "789b268b-35ce-4919-9867-e738654c4644",
   "metadata": {},
   "outputs": [],
   "source": [
    "# Using loc() function to make the column\n",
    "ords_prods_merge.loc[ords_prods_merge['order_hour_of_day'].between(9, 16), 'hourly_order_flag'] = 'Most orders'"
   ]
  },
  {
   "cell_type": "code",
   "execution_count": 328,
   "id": "9be9b568-12c1-46ee-9348-69ed3855c516",
   "metadata": {},
   "outputs": [],
   "source": [
    "ords_prods_merge.loc[ords_prods_merge['order_hour_of_day'].isin([23, 0, 1, 2, 3, 4, 5, 6]), 'hourly_order_flag'] = 'Fewest orders'"
   ]
  },
  {
   "cell_type": "code",
   "execution_count": 330,
   "id": "d76190bb-a596-4c37-93f3-2f14fd40e3d6",
   "metadata": {},
   "outputs": [],
   "source": [
    "ords_prods_merge.loc[ords_prods_merge['hourly_order_flag'].isna(),'hourly_order_flag'] = 'Average orders'"
   ]
  },
  {
   "cell_type": "code",
   "execution_count": 333,
   "id": "b6019b7a-154f-4e96-975b-23be5d92a851",
   "metadata": {},
   "outputs": [
    {
     "data": {
      "text/html": [
       "<div>\n",
       "<style scoped>\n",
       "    .dataframe tbody tr th:only-of-type {\n",
       "        vertical-align: middle;\n",
       "    }\n",
       "\n",
       "    .dataframe tbody tr th {\n",
       "        vertical-align: top;\n",
       "    }\n",
       "\n",
       "    .dataframe thead th {\n",
       "        text-align: right;\n",
       "    }\n",
       "</style>\n",
       "<table border=\"1\" class=\"dataframe\">\n",
       "  <thead>\n",
       "    <tr style=\"text-align: right;\">\n",
       "      <th></th>\n",
       "      <th>order_hour_of_day</th>\n",
       "      <th>hourly_order_flag</th>\n",
       "    </tr>\n",
       "  </thead>\n",
       "  <tbody>\n",
       "    <tr>\n",
       "      <th>0</th>\n",
       "      <td>11</td>\n",
       "      <td>Most orders</td>\n",
       "    </tr>\n",
       "    <tr>\n",
       "      <th>1</th>\n",
       "      <td>14</td>\n",
       "      <td>Most orders</td>\n",
       "    </tr>\n",
       "    <tr>\n",
       "      <th>2</th>\n",
       "      <td>14</td>\n",
       "      <td>Most orders</td>\n",
       "    </tr>\n",
       "    <tr>\n",
       "      <th>3</th>\n",
       "      <td>10</td>\n",
       "      <td>Most orders</td>\n",
       "    </tr>\n",
       "    <tr>\n",
       "      <th>4</th>\n",
       "      <td>15</td>\n",
       "      <td>Most orders</td>\n",
       "    </tr>\n",
       "    <tr>\n",
       "      <th>5</th>\n",
       "      <td>16</td>\n",
       "      <td>Most orders</td>\n",
       "    </tr>\n",
       "    <tr>\n",
       "      <th>6</th>\n",
       "      <td>14</td>\n",
       "      <td>Most orders</td>\n",
       "    </tr>\n",
       "    <tr>\n",
       "      <th>7</th>\n",
       "      <td>18</td>\n",
       "      <td>Average orders</td>\n",
       "    </tr>\n",
       "    <tr>\n",
       "      <th>8</th>\n",
       "      <td>10</td>\n",
       "      <td>Most orders</td>\n",
       "    </tr>\n",
       "    <tr>\n",
       "      <th>9</th>\n",
       "      <td>17</td>\n",
       "      <td>Average orders</td>\n",
       "    </tr>\n",
       "  </tbody>\n",
       "</table>\n",
       "</div>"
      ],
      "text/plain": [
       "   order_hour_of_day hourly_order_flag\n",
       "0                 11       Most orders\n",
       "1                 14       Most orders\n",
       "2                 14       Most orders\n",
       "3                 10       Most orders\n",
       "4                 15       Most orders\n",
       "5                 16       Most orders\n",
       "6                 14       Most orders\n",
       "7                 18    Average orders\n",
       "8                 10       Most orders\n",
       "9                 17    Average orders"
      ]
     },
     "execution_count": 333,
     "metadata": {},
     "output_type": "execute_result"
    }
   ],
   "source": [
    "# Checking the head of order_hour_of_day and hourly_order_flag to see if the loc() function was successful\n",
    "ords_prods_merge[['order_hour_of_day','hourly_order_flag']].head(10)"
   ]
  },
  {
   "cell_type": "markdown",
   "id": "8991bd82-39e4-4281-886e-9bff023cb178",
   "metadata": {},
   "source": [
    "## 5. "
   ]
  },
  {
   "cell_type": "code",
   "execution_count": 340,
   "id": "91580db6-94b5-432b-8416-919ed7812d01",
   "metadata": {},
   "outputs": [
    {
     "data": {
      "text/plain": [
       "hourly_order_flag\n",
       "Most orders       21118071\n",
       "Average orders     9997651\n",
       "Fewest orders      1289137\n",
       "Name: count, dtype: int64"
      ]
     },
     "execution_count": 340,
     "metadata": {},
     "output_type": "execute_result"
    }
   ],
   "source": [
    "# Checking frequency of the new column\n",
    "ords_prods_merge['hourly_order_flag'].value_counts(dropna=False)"
   ]
  },
  {
   "cell_type": "code",
   "execution_count": 342,
   "id": "b91d8e6e-f390-47a5-b896-12d32fe36a76",
   "metadata": {},
   "outputs": [
    {
     "data": {
      "text/html": [
       "<div>\n",
       "<style scoped>\n",
       "    .dataframe tbody tr th:only-of-type {\n",
       "        vertical-align: middle;\n",
       "    }\n",
       "\n",
       "    .dataframe tbody tr th {\n",
       "        vertical-align: top;\n",
       "    }\n",
       "\n",
       "    .dataframe thead th {\n",
       "        text-align: right;\n",
       "    }\n",
       "</style>\n",
       "<table border=\"1\" class=\"dataframe\">\n",
       "  <thead>\n",
       "    <tr style=\"text-align: right;\">\n",
       "      <th></th>\n",
       "      <th>product_id</th>\n",
       "      <th>product_name</th>\n",
       "      <th>aisle_id</th>\n",
       "      <th>department_id</th>\n",
       "      <th>prices</th>\n",
       "      <th>order_id</th>\n",
       "      <th>user_id</th>\n",
       "      <th>order_number</th>\n",
       "      <th>orders_day_of_week</th>\n",
       "      <th>order_hour_of_day</th>\n",
       "      <th>days_since_prior_order</th>\n",
       "      <th>add_to_cart_order</th>\n",
       "      <th>reordered</th>\n",
       "      <th>_merge</th>\n",
       "      <th>price_range_loc</th>\n",
       "      <th>busiest_days</th>\n",
       "      <th>hourly_order_flag</th>\n",
       "    </tr>\n",
       "  </thead>\n",
       "  <tbody>\n",
       "    <tr>\n",
       "      <th>0</th>\n",
       "      <td>1</td>\n",
       "      <td>Chocolate Sandwich Cookies</td>\n",
       "      <td>61</td>\n",
       "      <td>19</td>\n",
       "      <td>5.8</td>\n",
       "      <td>1107</td>\n",
       "      <td>38259</td>\n",
       "      <td>2</td>\n",
       "      <td>1</td>\n",
       "      <td>11</td>\n",
       "      <td>7.0</td>\n",
       "      <td>7.0</td>\n",
       "      <td>0.0</td>\n",
       "      <td>both</td>\n",
       "      <td>Mid range product</td>\n",
       "      <td>Busiest</td>\n",
       "      <td>Most orders</td>\n",
       "    </tr>\n",
       "    <tr>\n",
       "      <th>1</th>\n",
       "      <td>1</td>\n",
       "      <td>Chocolate Sandwich Cookies</td>\n",
       "      <td>61</td>\n",
       "      <td>19</td>\n",
       "      <td>5.8</td>\n",
       "      <td>5319</td>\n",
       "      <td>196224</td>\n",
       "      <td>65</td>\n",
       "      <td>1</td>\n",
       "      <td>14</td>\n",
       "      <td>1.0</td>\n",
       "      <td>3.0</td>\n",
       "      <td>1.0</td>\n",
       "      <td>both</td>\n",
       "      <td>Mid range product</td>\n",
       "      <td>Busiest</td>\n",
       "      <td>Most orders</td>\n",
       "    </tr>\n",
       "    <tr>\n",
       "      <th>2</th>\n",
       "      <td>1</td>\n",
       "      <td>Chocolate Sandwich Cookies</td>\n",
       "      <td>61</td>\n",
       "      <td>19</td>\n",
       "      <td>5.8</td>\n",
       "      <td>7540</td>\n",
       "      <td>138499</td>\n",
       "      <td>8</td>\n",
       "      <td>0</td>\n",
       "      <td>14</td>\n",
       "      <td>7.0</td>\n",
       "      <td>4.0</td>\n",
       "      <td>1.0</td>\n",
       "      <td>both</td>\n",
       "      <td>Mid range product</td>\n",
       "      <td>Busiest</td>\n",
       "      <td>Most orders</td>\n",
       "    </tr>\n",
       "    <tr>\n",
       "      <th>3</th>\n",
       "      <td>1</td>\n",
       "      <td>Chocolate Sandwich Cookies</td>\n",
       "      <td>61</td>\n",
       "      <td>19</td>\n",
       "      <td>5.8</td>\n",
       "      <td>9228</td>\n",
       "      <td>79603</td>\n",
       "      <td>2</td>\n",
       "      <td>2</td>\n",
       "      <td>10</td>\n",
       "      <td>30.0</td>\n",
       "      <td>2.0</td>\n",
       "      <td>0.0</td>\n",
       "      <td>both</td>\n",
       "      <td>Mid range product</td>\n",
       "      <td>Regular busy</td>\n",
       "      <td>Most orders</td>\n",
       "    </tr>\n",
       "    <tr>\n",
       "      <th>4</th>\n",
       "      <td>1</td>\n",
       "      <td>Chocolate Sandwich Cookies</td>\n",
       "      <td>61</td>\n",
       "      <td>19</td>\n",
       "      <td>5.8</td>\n",
       "      <td>9273</td>\n",
       "      <td>50005</td>\n",
       "      <td>1</td>\n",
       "      <td>1</td>\n",
       "      <td>15</td>\n",
       "      <td>NaN</td>\n",
       "      <td>30.0</td>\n",
       "      <td>0.0</td>\n",
       "      <td>both</td>\n",
       "      <td>Mid range product</td>\n",
       "      <td>Busiest</td>\n",
       "      <td>Most orders</td>\n",
       "    </tr>\n",
       "    <tr>\n",
       "      <th>5</th>\n",
       "      <td>1</td>\n",
       "      <td>Chocolate Sandwich Cookies</td>\n",
       "      <td>61</td>\n",
       "      <td>19</td>\n",
       "      <td>5.8</td>\n",
       "      <td>9696</td>\n",
       "      <td>108919</td>\n",
       "      <td>46</td>\n",
       "      <td>5</td>\n",
       "      <td>16</td>\n",
       "      <td>8.0</td>\n",
       "      <td>5.0</td>\n",
       "      <td>1.0</td>\n",
       "      <td>both</td>\n",
       "      <td>Mid range product</td>\n",
       "      <td>Regular busy</td>\n",
       "      <td>Most orders</td>\n",
       "    </tr>\n",
       "    <tr>\n",
       "      <th>6</th>\n",
       "      <td>1</td>\n",
       "      <td>Chocolate Sandwich Cookies</td>\n",
       "      <td>61</td>\n",
       "      <td>19</td>\n",
       "      <td>5.8</td>\n",
       "      <td>11140</td>\n",
       "      <td>63782</td>\n",
       "      <td>4</td>\n",
       "      <td>1</td>\n",
       "      <td>14</td>\n",
       "      <td>14.0</td>\n",
       "      <td>1.0</td>\n",
       "      <td>1.0</td>\n",
       "      <td>both</td>\n",
       "      <td>Mid range product</td>\n",
       "      <td>Busiest</td>\n",
       "      <td>Most orders</td>\n",
       "    </tr>\n",
       "    <tr>\n",
       "      <th>7</th>\n",
       "      <td>1</td>\n",
       "      <td>Chocolate Sandwich Cookies</td>\n",
       "      <td>61</td>\n",
       "      <td>19</td>\n",
       "      <td>5.8</td>\n",
       "      <td>11485</td>\n",
       "      <td>170451</td>\n",
       "      <td>5</td>\n",
       "      <td>5</td>\n",
       "      <td>18</td>\n",
       "      <td>24.0</td>\n",
       "      <td>4.0</td>\n",
       "      <td>0.0</td>\n",
       "      <td>both</td>\n",
       "      <td>Mid range product</td>\n",
       "      <td>Regular busy</td>\n",
       "      <td>Average orders</td>\n",
       "    </tr>\n",
       "    <tr>\n",
       "      <th>8</th>\n",
       "      <td>1</td>\n",
       "      <td>Chocolate Sandwich Cookies</td>\n",
       "      <td>61</td>\n",
       "      <td>19</td>\n",
       "      <td>5.8</td>\n",
       "      <td>12672</td>\n",
       "      <td>106854</td>\n",
       "      <td>28</td>\n",
       "      <td>5</td>\n",
       "      <td>10</td>\n",
       "      <td>6.0</td>\n",
       "      <td>3.0</td>\n",
       "      <td>1.0</td>\n",
       "      <td>both</td>\n",
       "      <td>Mid range product</td>\n",
       "      <td>Regular busy</td>\n",
       "      <td>Most orders</td>\n",
       "    </tr>\n",
       "    <tr>\n",
       "      <th>9</th>\n",
       "      <td>1</td>\n",
       "      <td>Chocolate Sandwich Cookies</td>\n",
       "      <td>61</td>\n",
       "      <td>19</td>\n",
       "      <td>5.8</td>\n",
       "      <td>13668</td>\n",
       "      <td>181127</td>\n",
       "      <td>10</td>\n",
       "      <td>4</td>\n",
       "      <td>17</td>\n",
       "      <td>9.0</td>\n",
       "      <td>4.0</td>\n",
       "      <td>1.0</td>\n",
       "      <td>both</td>\n",
       "      <td>Mid range product</td>\n",
       "      <td>Least busy</td>\n",
       "      <td>Average orders</td>\n",
       "    </tr>\n",
       "  </tbody>\n",
       "</table>\n",
       "</div>"
      ],
      "text/plain": [
       "   product_id                product_name  aisle_id  department_id  prices  \\\n",
       "0           1  Chocolate Sandwich Cookies        61             19     5.8   \n",
       "1           1  Chocolate Sandwich Cookies        61             19     5.8   \n",
       "2           1  Chocolate Sandwich Cookies        61             19     5.8   \n",
       "3           1  Chocolate Sandwich Cookies        61             19     5.8   \n",
       "4           1  Chocolate Sandwich Cookies        61             19     5.8   \n",
       "5           1  Chocolate Sandwich Cookies        61             19     5.8   \n",
       "6           1  Chocolate Sandwich Cookies        61             19     5.8   \n",
       "7           1  Chocolate Sandwich Cookies        61             19     5.8   \n",
       "8           1  Chocolate Sandwich Cookies        61             19     5.8   \n",
       "9           1  Chocolate Sandwich Cookies        61             19     5.8   \n",
       "\n",
       "   order_id  user_id  order_number  orders_day_of_week  order_hour_of_day  \\\n",
       "0      1107    38259             2                   1                 11   \n",
       "1      5319   196224            65                   1                 14   \n",
       "2      7540   138499             8                   0                 14   \n",
       "3      9228    79603             2                   2                 10   \n",
       "4      9273    50005             1                   1                 15   \n",
       "5      9696   108919            46                   5                 16   \n",
       "6     11140    63782             4                   1                 14   \n",
       "7     11485   170451             5                   5                 18   \n",
       "8     12672   106854            28                   5                 10   \n",
       "9     13668   181127            10                   4                 17   \n",
       "\n",
       "   days_since_prior_order  add_to_cart_order  reordered _merge  \\\n",
       "0                     7.0                7.0        0.0   both   \n",
       "1                     1.0                3.0        1.0   both   \n",
       "2                     7.0                4.0        1.0   both   \n",
       "3                    30.0                2.0        0.0   both   \n",
       "4                     NaN               30.0        0.0   both   \n",
       "5                     8.0                5.0        1.0   both   \n",
       "6                    14.0                1.0        1.0   both   \n",
       "7                    24.0                4.0        0.0   both   \n",
       "8                     6.0                3.0        1.0   both   \n",
       "9                     9.0                4.0        1.0   both   \n",
       "\n",
       "     price_range_loc  busiest_days hourly_order_flag  \n",
       "0  Mid range product       Busiest       Most orders  \n",
       "1  Mid range product       Busiest       Most orders  \n",
       "2  Mid range product       Busiest       Most orders  \n",
       "3  Mid range product  Regular busy       Most orders  \n",
       "4  Mid range product       Busiest       Most orders  \n",
       "5  Mid range product  Regular busy       Most orders  \n",
       "6  Mid range product       Busiest       Most orders  \n",
       "7  Mid range product  Regular busy    Average orders  \n",
       "8  Mid range product  Regular busy       Most orders  \n",
       "9  Mid range product    Least busy    Average orders  "
      ]
     },
     "execution_count": 342,
     "metadata": {},
     "output_type": "execute_result"
    }
   ],
   "source": [
    "ords_prods_merge.head(10)"
   ]
  },
  {
   "cell_type": "markdown",
   "id": "28045ada-6f24-4dab-9b82-65edac837916",
   "metadata": {},
   "source": [
    "## 7. "
   ]
  },
  {
   "cell_type": "code",
   "execution_count": 345,
   "id": "daf50ea9-a384-49e5-a9a7-fcb3d01d2a6a",
   "metadata": {},
   "outputs": [],
   "source": [
    "# Exporting merged dataframe\n",
    "ords_prods_merge.to_pickle(os.path.join(path,'02 Data', 'Prepared Data', 'ords_prods_derived_variables.pkl'))"
   ]
  }
 ],
 "metadata": {
  "kernelspec": {
   "display_name": "Python [conda env:base] *",
   "language": "python",
   "name": "conda-base-py"
  },
  "language_info": {
   "codemirror_mode": {
    "name": "ipython",
    "version": 3
   },
   "file_extension": ".py",
   "mimetype": "text/x-python",
   "name": "python",
   "nbconvert_exporter": "python",
   "pygments_lexer": "ipython3",
   "version": "3.12.7"
  }
 },
 "nbformat": 4,
 "nbformat_minor": 5
}
