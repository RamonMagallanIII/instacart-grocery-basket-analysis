{
 "cells": [
  {
   "cell_type": "markdown",
   "id": "2f06c107-c1f1-4e72-95c7-b997723cd30c",
   "metadata": {},
   "source": [
    "# 01. Importing libraries"
   ]
  },
  {
   "cell_type": "code",
   "execution_count": 20,
   "id": "6da989c9-08cf-45f8-a7eb-30c556df707e",
   "metadata": {},
   "outputs": [],
   "source": [
    "#Import libraries \n",
    "import pandas as pd\n",
    "import numpy as np\n",
    "import os"
   ]
  },
  {
   "cell_type": "code",
   "execution_count": null,
   "id": "344098bd-54c8-4016-a89f-7a9e4d4f1064",
   "metadata": {},
   "outputs": [],
   "source": [
    "#Working with Python Data Types"
   ]
  },
  {
   "cell_type": "code",
   "execution_count": 42,
   "id": "d4c232e3-1a52-4bd2-b725-0bb291c1cdfd",
   "metadata": {},
   "outputs": [],
   "source": [
    "x = 37"
   ]
  },
  {
   "cell_type": "code",
   "execution_count": 24,
   "id": "b41f8aa3-3b9d-43c7-a38a-f9d50dfe1095",
   "metadata": {},
   "outputs": [],
   "source": [
    "y = 63"
   ]
  },
  {
   "cell_type": "code",
   "execution_count": 26,
   "id": "8c1fa37e-eb86-4eb1-b60e-61fac265eaf9",
   "metadata": {},
   "outputs": [
    {
     "data": {
      "text/plain": [
       "100"
      ]
     },
     "execution_count": 26,
     "metadata": {},
     "output_type": "execute_result"
    }
   ],
   "source": [
    "x+y"
   ]
  },
  {
   "cell_type": "code",
   "execution_count": 28,
   "id": "1966ac66-4eba-4a84-9941-33dc8294ab85",
   "metadata": {},
   "outputs": [],
   "source": [
    "x = 100-53"
   ]
  },
  {
   "cell_type": "code",
   "execution_count": 30,
   "id": "280c106b-cfb4-49c3-866d-5644fe252b33",
   "metadata": {},
   "outputs": [],
   "source": [
    "y = 4+49"
   ]
  },
  {
   "cell_type": "code",
   "execution_count": 32,
   "id": "5af09bc0-e193-49af-acfe-a6254cd584e1",
   "metadata": {},
   "outputs": [
    {
     "data": {
      "text/plain": [
       "100"
      ]
     },
     "execution_count": 32,
     "metadata": {},
     "output_type": "execute_result"
    }
   ],
   "source": [
    "x+y"
   ]
  },
  {
   "cell_type": "code",
   "execution_count": 46,
   "id": "1b32ce6a-8374-42b6-abd8-c23d13915f58",
   "metadata": {},
   "outputs": [],
   "source": [
    "x = 10*10"
   ]
  },
  {
   "cell_type": "code",
   "execution_count": 52,
   "id": "874a3525-0c6e-4632-804b-8cb0248dc58f",
   "metadata": {},
   "outputs": [],
   "source": [
    "y = 0"
   ]
  },
  {
   "cell_type": "code",
   "execution_count": 54,
   "id": "b987a8b2-3b82-472d-82ff-37b883b9adcb",
   "metadata": {},
   "outputs": [
    {
     "data": {
      "text/plain": [
       "100"
      ]
     },
     "execution_count": 54,
     "metadata": {},
     "output_type": "execute_result"
    }
   ],
   "source": [
    "x+y"
   ]
  },
  {
   "cell_type": "code",
   "execution_count": 56,
   "id": "4b4f7364-b308-4869-92f2-5f27eee7480e",
   "metadata": {},
   "outputs": [],
   "source": [
    "x = 4.367"
   ]
  },
  {
   "cell_type": "code",
   "execution_count": 58,
   "id": "69882f94-8d8e-4f96-9565-8a752fd3471c",
   "metadata": {},
   "outputs": [],
   "source": [
    "y = 5.325"
   ]
  },
  {
   "cell_type": "code",
   "execution_count": 61,
   "id": "17df6cd0-0237-4f81-b25a-aeadefaf5cc7",
   "metadata": {},
   "outputs": [
    {
     "data": {
      "text/plain": [
       "0.820093896713615"
      ]
     },
     "execution_count": 61,
     "metadata": {},
     "output_type": "execute_result"
    }
   ],
   "source": [
    "x/y"
   ]
  },
  {
   "cell_type": "code",
   "execution_count": 71,
   "id": "e4414074-ca54-4224-b2db-abdcfc3b7336",
   "metadata": {},
   "outputs": [],
   "source": [
    "a = 'to'"
   ]
  },
  {
   "cell_type": "code",
   "execution_count": 73,
   "id": "089edf09-4990-4554-8ee9-463a8fda3208",
   "metadata": {},
   "outputs": [],
   "source": [
    "b = 'day'"
   ]
  },
  {
   "cell_type": "code",
   "execution_count": 75,
   "id": "1f5810d8-670e-4b32-8a35-5c5833405597",
   "metadata": {},
   "outputs": [
    {
     "data": {
      "text/plain": [
       "'today'"
      ]
     },
     "execution_count": 75,
     "metadata": {},
     "output_type": "execute_result"
    }
   ],
   "source": [
    "a + b"
   ]
  },
  {
   "cell_type": "code",
   "execution_count": 79,
   "id": "f94b1dba-303b-451c-a884-d1b0b5576f8f",
   "metadata": {},
   "outputs": [],
   "source": [
    "a = 'As a professional analyst, '"
   ]
  },
  {
   "cell_type": "code",
   "execution_count": 81,
   "id": "fce771fa-0aaa-49fd-9b48-3567ebb436b8",
   "metadata": {},
   "outputs": [],
   "source": [
    "b = \"you'll often be working on a number of different projects at the same time.\""
   ]
  },
  {
   "cell_type": "code",
   "execution_count": 83,
   "id": "318bb613-4e8f-4956-a32b-e33b3af0b97f",
   "metadata": {},
   "outputs": [
    {
     "data": {
      "text/plain": [
       "\"As a professional analyst, you'll often be working on a number of different projects at the same time.\""
      ]
     },
     "execution_count": 83,
     "metadata": {},
     "output_type": "execute_result"
    }
   ],
   "source": [
    "a+b"
   ]
  },
  {
   "cell_type": "code",
   "execution_count": 91,
   "id": "346919d0-83f7-4a67-af0d-3c6967a18ffe",
   "metadata": {},
   "outputs": [],
   "source": [
    "a = \"You'll be starting your project \""
   ]
  },
  {
   "cell_type": "code",
   "execution_count": 93,
   "id": "d61bc2bc-2d12-42dd-ac23-1565aae45ac5",
   "metadata": {},
   "outputs": [],
   "source": [
    "b = \"for this Achievement in the next Exercise.\""
   ]
  },
  {
   "cell_type": "code",
   "execution_count": 95,
   "id": "ede35028-8089-43f0-8cec-5320de8a4420",
   "metadata": {},
   "outputs": [
    {
     "data": {
      "text/plain": [
       "\"You'll be starting your project for this Achievement in the next Exercise.\""
      ]
     },
     "execution_count": 95,
     "metadata": {},
     "output_type": "execute_result"
    }
   ],
   "source": [
    "a + b"
   ]
  },
  {
   "cell_type": "code",
   "execution_count": 2,
   "id": "6ad5edda-edf7-442a-9d17-c3e9f0e808f0",
   "metadata": {},
   "outputs": [],
   "source": [
    "a = 'Bonus Task'"
   ]
  },
  {
   "cell_type": "code",
   "execution_count": null,
   "id": "2f209b32-1c02-4891-a067-962fe9e74a3c",
   "metadata": {},
   "outputs": [],
   "source": [
    "a * 100"
   ]
  }
 ],
 "metadata": {
  "kernelspec": {
   "display_name": "Python [conda env:base] *",
   "language": "python",
   "name": "conda-base-py"
  },
  "language_info": {
   "codemirror_mode": {
    "name": "ipython",
    "version": 3
   },
   "file_extension": ".py",
   "mimetype": "text/x-python",
   "name": "python",
   "nbconvert_exporter": "python",
   "pygments_lexer": "ipython3",
   "version": "3.12.7"
  }
 },
 "nbformat": 4,
 "nbformat_minor": 5
}
